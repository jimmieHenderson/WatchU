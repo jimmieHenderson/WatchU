{
  "metadata": {
    "kernelspec": {
      "language": "python",
      "display_name": "Python 3",
      "name": "python3"
    },
    "language_info": {
      "pygments_lexer": "ipython3",
      "nbconvert_exporter": "python",
      "version": "3.6.4",
      "file_extension": ".py",
      "codemirror_mode": {
        "name": "ipython",
        "version": 3
      },
      "name": "python",
      "mimetype": "text/x-python"
    },
    "colab": {
      "provenance": []
    }
  },
  "nbformat_minor": 0,
  "nbformat": 4,
  "cells": [
    {
      "source": [
        "\n",
        "# IMPORTANT: RUN THIS CELL IN ORDER TO IMPORT YOUR KAGGLE DATA SOURCES\n",
        "# TO THE CORRECT LOCATION (/kaggle/input) IN YOUR NOTEBOOK,\n",
        "# THEN FEEL FREE TO DELETE THIS CELL.\n",
        "# NOTE: THIS NOTEBOOK ENVIRONMENT DIFFERS FROM KAGGLE'S PYTHON\n",
        "# ENVIRONMENT SO THERE MAY BE MISSING LIBRARIES USED BY YOUR\n",
        "# NOTEBOOK.\n",
        "\n",
        "import os\n",
        "import sys\n",
        "from tempfile import NamedTemporaryFile\n",
        "from urllib.request import urlopen\n",
        "from urllib.parse import unquote, urlparse\n",
        "from urllib.error import HTTPError\n",
        "from zipfile import ZipFile\n",
        "import tarfile\n",
        "import shutil\n",
        "\n",
        "CHUNK_SIZE = 40960\n",
        "DATA_SOURCE_MAPPING = 'respiratory-sound-database:https%3A%2F%2Fstorage.googleapis.com%2Fkaggle-data-sets%2F110374%2F267422%2Fbundle%2Farchive.zip%3FX-Goog-Algorithm%3DGOOG4-RSA-SHA256%26X-Goog-Credential%3Dgcp-kaggle-com%2540kaggle-161607.iam.gserviceaccount.com%252F20240331%252Fauto%252Fstorage%252Fgoog4_request%26X-Goog-Date%3D20240331T015243Z%26X-Goog-Expires%3D259200%26X-Goog-SignedHeaders%3Dhost%26X-Goog-Signature%3D1086e764e349257cbb05f439a8ffa67f59951981896b62161786f92db89ec61903da767ebc237ff1b174e592b206878dc053645988e4a81615e07b181e2e2d1cdadbb50267d3b8a92d63382676ad29580e9091bb5eafe3d9c3191568cedbc443b9e89c4b679ab976e5e670d81b33aa61a20b35923ba189e6218f7910046909a9f19ee2035ca7d7da04cab08328b513074ff7c7d80e5658b22c47f8615c23afbfa2256ca0eb1f3f6f2cbfa81a64621cdb9e62c67dba69e6eb956cd23af7bd3a797742cd849d13d208b05c5e2aeb0bdc4648b742e5091b134e8498b35ce4bcead3577b82e7ab7e82cc1dc6aa1a5cbad5da9fe859a1d7ee07d552bfa0cf068fee21'\n",
        "\n",
        "KAGGLE_INPUT_PATH='/kaggle/input'\n",
        "KAGGLE_WORKING_PATH='/kaggle/working'\n",
        "KAGGLE_SYMLINK='kaggle'\n",
        "\n",
        "!umount /kaggle/input/ 2> /dev/null\n",
        "shutil.rmtree('/kaggle/input', ignore_errors=True)\n",
        "os.makedirs(KAGGLE_INPUT_PATH, 0o777, exist_ok=True)\n",
        "os.makedirs(KAGGLE_WORKING_PATH, 0o777, exist_ok=True)\n",
        "\n",
        "try:\n",
        "  os.symlink(KAGGLE_INPUT_PATH, os.path.join(\"..\", 'input'), target_is_directory=True)\n",
        "except FileExistsError:\n",
        "  pass\n",
        "try:\n",
        "  os.symlink(KAGGLE_WORKING_PATH, os.path.join(\"..\", 'working'), target_is_directory=True)\n",
        "except FileExistsError:\n",
        "  pass\n",
        "\n",
        "for data_source_mapping in DATA_SOURCE_MAPPING.split(','):\n",
        "    directory, download_url_encoded = data_source_mapping.split(':')\n",
        "    download_url = unquote(download_url_encoded)\n",
        "    filename = urlparse(download_url).path\n",
        "    destination_path = os.path.join(KAGGLE_INPUT_PATH, directory)\n",
        "    try:\n",
        "        with urlopen(download_url) as fileres, NamedTemporaryFile() as tfile:\n",
        "            total_length = fileres.headers['content-length']\n",
        "            print(f'Downloading {directory}, {total_length} bytes compressed')\n",
        "            dl = 0\n",
        "            data = fileres.read(CHUNK_SIZE)\n",
        "            while len(data) > 0:\n",
        "                dl += len(data)\n",
        "                tfile.write(data)\n",
        "                done = int(50 * dl / int(total_length))\n",
        "                sys.stdout.write(f\"\\r[{'=' * done}{' ' * (50-done)}] {dl} bytes downloaded\")\n",
        "                sys.stdout.flush()\n",
        "                data = fileres.read(CHUNK_SIZE)\n",
        "            if filename.endswith('.zip'):\n",
        "              with ZipFile(tfile) as zfile:\n",
        "                zfile.extractall(destination_path)\n",
        "            else:\n",
        "              with tarfile.open(tfile.name) as tarfile:\n",
        "                tarfile.extractall(destination_path)\n",
        "            print(f'\\nDownloaded and uncompressed: {directory}')\n",
        "    except HTTPError as e:\n",
        "        print(f'Failed to load (likely expired) {download_url} to path {destination_path}')\n",
        "        continue\n",
        "    except OSError as e:\n",
        "        print(f'Failed to load {download_url} to path {destination_path}')\n",
        "        continue\n",
        "\n",
        "print('Data source import complete.')\n"
      ],
      "metadata": {
        "id": "JSKefAN_NZ33",
        "outputId": "8d2a2b28-fe05-4b5b-cc58-bff9d45e29f0",
        "colab": {
          "base_uri": "https://localhost:8080/"
        }
      },
      "cell_type": "code",
      "outputs": [
        {
          "output_type": "stream",
          "name": "stdout",
          "text": [
            "Downloading respiratory-sound-database, 3958459400 bytes compressed\n",
            "[==================================================] 3958459400 bytes downloaded\n",
            "Downloaded and uncompressed: respiratory-sound-database\n",
            "Data source import complete.\n"
          ]
        }
      ],
      "execution_count": null
    },
    {
      "cell_type": "markdown",
      "source": [
        "## PACKAGES AND LIBRARIES"
      ],
      "metadata": {
        "execution": {
          "iopub.status.busy": "2023-10-03T12:04:37.082545Z",
          "iopub.execute_input": "2023-10-03T12:04:37.08292Z",
          "iopub.status.idle": "2023-10-03T12:04:37.089268Z",
          "shell.execute_reply.started": "2023-10-03T12:04:37.082891Z",
          "shell.execute_reply": "2023-10-03T12:04:37.088009Z"
        },
        "id": "UUZdDDiENZ3-"
      }
    },
    {
      "cell_type": "code",
      "source": [
        "# Load various imports\n",
        "from datetime import datetime\n",
        "from os import listdir\n",
        "from os.path import isfile, join\n",
        "\n",
        "import librosa\n",
        "import librosa.display\n",
        "\n",
        "import numpy as np\n",
        "import pandas as pd\n",
        "\n",
        "import tensorflow\n",
        "from tensorflow.keras.models import Sequential\n",
        "from tensorflow.keras.layers import Dense, Dropout, Conv2D, MaxPooling2D, GlobalAveragePooling2D\n",
        "from keras.utils import to_categorical\n",
        "from tensorflow.keras.callbacks import ModelCheckpoint\n",
        "\n",
        "from sklearn.metrics import confusion_matrix, classification_report, roc_curve, auc, ConfusionMatrixDisplay\n",
        "from sklearn.model_selection import train_test_split\n",
        "from sklearn.preprocessing import LabelEncoder\n",
        "\n",
        "import matplotlib.pyplot as plt\n",
        "import seaborn as sns\n",
        "from sklearn.preprocessing import StandardScaler, OneHotEncoder\n",
        "from sklearn.preprocessing import MinMaxScaler"
      ],
      "metadata": {
        "_uuid": "8f2839f25d086af736a60e9eeb907d3b93b6e0e5",
        "_cell_guid": "b1076dfc-b9ad-4769-8c92-a6c4dae69d19",
        "execution": {
          "iopub.status.busy": "2023-10-03T13:11:13.858976Z",
          "iopub.execute_input": "2023-10-03T13:11:13.85933Z",
          "iopub.status.idle": "2023-10-03T13:11:13.870186Z",
          "shell.execute_reply.started": "2023-10-03T13:11:13.859305Z",
          "shell.execute_reply": "2023-10-03T13:11:13.868496Z"
        },
        "trusted": true,
        "id": "hPHy5tkuNZ4D"
      },
      "execution_count": null,
      "outputs": []
    },
    {
      "cell_type": "code",
      "source": [
        "!pip install pydub"
      ],
      "metadata": {
        "execution": {
          "iopub.status.busy": "2023-10-03T13:11:33.276314Z",
          "iopub.execute_input": "2023-10-03T13:11:33.276689Z",
          "iopub.status.idle": "2023-10-03T13:11:44.234995Z",
          "shell.execute_reply.started": "2023-10-03T13:11:33.276662Z",
          "shell.execute_reply": "2023-10-03T13:11:44.232755Z"
        },
        "trusted": true,
        "id": "EbAvmTsHNZ4E",
        "outputId": "7b3e1b8a-6dc5-4cd0-96e5-ebbb43852f8a",
        "colab": {
          "base_uri": "https://localhost:8080/"
        }
      },
      "execution_count": null,
      "outputs": [
        {
          "output_type": "stream",
          "name": "stdout",
          "text": [
            "Collecting pydub\n",
            "  Downloading pydub-0.25.1-py2.py3-none-any.whl (32 kB)\n",
            "Installing collected packages: pydub\n",
            "Successfully installed pydub-0.25.1\n"
          ]
        }
      ]
    },
    {
      "cell_type": "code",
      "source": [
        "!pip install resampy"
      ],
      "metadata": {
        "execution": {
          "iopub.status.busy": "2023-10-03T13:11:51.834511Z",
          "iopub.execute_input": "2023-10-03T13:11:51.83518Z",
          "iopub.status.idle": "2023-10-03T13:12:02.910404Z",
          "shell.execute_reply.started": "2023-10-03T13:11:51.835145Z",
          "shell.execute_reply": "2023-10-03T13:12:02.909186Z"
        },
        "trusted": true,
        "id": "Z3Y7F8P0NZ4F",
        "outputId": "f5e6abce-e4fa-4eec-fea4-bce770eab89f",
        "colab": {
          "base_uri": "https://localhost:8080/"
        }
      },
      "execution_count": null,
      "outputs": [
        {
          "output_type": "stream",
          "name": "stdout",
          "text": [
            "Collecting resampy\n",
            "  Downloading resampy-0.4.3-py3-none-any.whl (3.1 MB)\n",
            "\u001b[2K     \u001b[90m━━━━━━━━━━━━━━━━━━━━━━━━━━━━━━━━━━━━━━━━\u001b[0m \u001b[32m3.1/3.1 MB\u001b[0m \u001b[31m20.5 MB/s\u001b[0m eta \u001b[36m0:00:00\u001b[0m\n",
            "\u001b[?25hRequirement already satisfied: numpy>=1.17 in /usr/local/lib/python3.10/dist-packages (from resampy) (1.25.2)\n",
            "Requirement already satisfied: numba>=0.53 in /usr/local/lib/python3.10/dist-packages (from resampy) (0.58.1)\n",
            "Requirement already satisfied: llvmlite<0.42,>=0.41.0dev0 in /usr/local/lib/python3.10/dist-packages (from numba>=0.53->resampy) (0.41.1)\n",
            "Installing collected packages: resampy\n",
            "Successfully installed resampy-0.4.3\n"
          ]
        }
      ]
    },
    {
      "cell_type": "code",
      "source": [
        "!pip install librosa --upgrade"
      ],
      "metadata": {
        "execution": {
          "iopub.status.busy": "2023-10-03T13:12:49.715181Z",
          "iopub.execute_input": "2023-10-03T13:12:49.71577Z",
          "iopub.status.idle": "2023-10-03T13:13:01.05142Z",
          "shell.execute_reply.started": "2023-10-03T13:12:49.715732Z",
          "shell.execute_reply": "2023-10-03T13:13:01.049499Z"
        },
        "trusted": true,
        "id": "g9LGu7ndNZ4G",
        "outputId": "5e67f21b-4ec2-4fbe-de7b-fa713d70277c",
        "colab": {
          "base_uri": "https://localhost:8080/"
        }
      },
      "execution_count": null,
      "outputs": [
        {
          "output_type": "stream",
          "name": "stdout",
          "text": [
            "Requirement already satisfied: librosa in /usr/local/lib/python3.10/dist-packages (0.10.1)\n",
            "Requirement already satisfied: audioread>=2.1.9 in /usr/local/lib/python3.10/dist-packages (from librosa) (3.0.1)\n",
            "Requirement already satisfied: numpy!=1.22.0,!=1.22.1,!=1.22.2,>=1.20.3 in /usr/local/lib/python3.10/dist-packages (from librosa) (1.25.2)\n",
            "Requirement already satisfied: scipy>=1.2.0 in /usr/local/lib/python3.10/dist-packages (from librosa) (1.11.4)\n",
            "Requirement already satisfied: scikit-learn>=0.20.0 in /usr/local/lib/python3.10/dist-packages (from librosa) (1.2.2)\n",
            "Requirement already satisfied: joblib>=0.14 in /usr/local/lib/python3.10/dist-packages (from librosa) (1.3.2)\n",
            "Requirement already satisfied: decorator>=4.3.0 in /usr/local/lib/python3.10/dist-packages (from librosa) (4.4.2)\n",
            "Requirement already satisfied: numba>=0.51.0 in /usr/local/lib/python3.10/dist-packages (from librosa) (0.58.1)\n",
            "Requirement already satisfied: soundfile>=0.12.1 in /usr/local/lib/python3.10/dist-packages (from librosa) (0.12.1)\n",
            "Requirement already satisfied: pooch>=1.0 in /usr/local/lib/python3.10/dist-packages (from librosa) (1.8.1)\n",
            "Requirement already satisfied: soxr>=0.3.2 in /usr/local/lib/python3.10/dist-packages (from librosa) (0.3.7)\n",
            "Requirement already satisfied: typing-extensions>=4.1.1 in /usr/local/lib/python3.10/dist-packages (from librosa) (4.10.0)\n",
            "Requirement already satisfied: lazy-loader>=0.1 in /usr/local/lib/python3.10/dist-packages (from librosa) (0.3)\n",
            "Requirement already satisfied: msgpack>=1.0 in /usr/local/lib/python3.10/dist-packages (from librosa) (1.0.8)\n",
            "Requirement already satisfied: llvmlite<0.42,>=0.41.0dev0 in /usr/local/lib/python3.10/dist-packages (from numba>=0.51.0->librosa) (0.41.1)\n",
            "Requirement already satisfied: platformdirs>=2.5.0 in /usr/local/lib/python3.10/dist-packages (from pooch>=1.0->librosa) (4.2.0)\n",
            "Requirement already satisfied: packaging>=20.0 in /usr/local/lib/python3.10/dist-packages (from pooch>=1.0->librosa) (24.0)\n",
            "Requirement already satisfied: requests>=2.19.0 in /usr/local/lib/python3.10/dist-packages (from pooch>=1.0->librosa) (2.31.0)\n",
            "Requirement already satisfied: threadpoolctl>=2.0.0 in /usr/local/lib/python3.10/dist-packages (from scikit-learn>=0.20.0->librosa) (3.4.0)\n",
            "Requirement already satisfied: cffi>=1.0 in /usr/local/lib/python3.10/dist-packages (from soundfile>=0.12.1->librosa) (1.16.0)\n",
            "Requirement already satisfied: pycparser in /usr/local/lib/python3.10/dist-packages (from cffi>=1.0->soundfile>=0.12.1->librosa) (2.21)\n",
            "Requirement already satisfied: charset-normalizer<4,>=2 in /usr/local/lib/python3.10/dist-packages (from requests>=2.19.0->pooch>=1.0->librosa) (3.3.2)\n",
            "Requirement already satisfied: idna<4,>=2.5 in /usr/local/lib/python3.10/dist-packages (from requests>=2.19.0->pooch>=1.0->librosa) (3.6)\n",
            "Requirement already satisfied: urllib3<3,>=1.21.1 in /usr/local/lib/python3.10/dist-packages (from requests>=2.19.0->pooch>=1.0->librosa) (2.0.7)\n",
            "Requirement already satisfied: certifi>=2017.4.17 in /usr/local/lib/python3.10/dist-packages (from requests>=2.19.0->pooch>=1.0->librosa) (2024.2.2)\n"
          ]
        }
      ]
    },
    {
      "cell_type": "markdown",
      "source": [
        "# DATASET"
      ],
      "metadata": {
        "id": "yzekKGwHNZ4G"
      }
    },
    {
      "cell_type": "code",
      "source": [
        "mypath = \"/kaggle/input/respiratory-sound-database/Respiratory_Sound_Database/Respiratory_Sound_Database/audio_and_txt_files/\"\n",
        "filenames = [f for f in listdir(mypath) if (isfile(join(mypath, f)) and f.endswith('.wav'))]"
      ],
      "metadata": {
        "execution": {
          "iopub.status.busy": "2023-10-03T13:13:04.047092Z",
          "iopub.execute_input": "2023-10-03T13:13:04.047715Z",
          "iopub.status.idle": "2023-10-03T13:13:05.300633Z",
          "shell.execute_reply.started": "2023-10-03T13:13:04.047677Z",
          "shell.execute_reply": "2023-10-03T13:13:05.299743Z"
        },
        "trusted": true,
        "id": "0WoDJWeYNZ4H"
      },
      "execution_count": null,
      "outputs": []
    },
    {
      "cell_type": "code",
      "source": [
        "p_id_in_file = [] # patient IDs corresponding to each file\n",
        "for name in filenames:\n",
        "    p_id_in_file.append(int(name[:3]))\n",
        "\n",
        "p_id_in_file = np.array(p_id_in_file)"
      ],
      "metadata": {
        "execution": {
          "iopub.status.busy": "2023-10-03T13:13:06.599001Z",
          "iopub.execute_input": "2023-10-03T13:13:06.59969Z",
          "iopub.status.idle": "2023-10-03T13:13:06.607388Z",
          "shell.execute_reply.started": "2023-10-03T13:13:06.599636Z",
          "shell.execute_reply": "2023-10-03T13:13:06.605724Z"
        },
        "trusted": true,
        "id": "epf36TpONZ4I"
      },
      "execution_count": null,
      "outputs": []
    },
    {
      "cell_type": "code",
      "source": [
        "filepaths = [join(mypath, f) for f in filenames] # full paths of files"
      ],
      "metadata": {
        "execution": {
          "iopub.status.busy": "2023-10-03T13:13:08.180296Z",
          "iopub.execute_input": "2023-10-03T13:13:08.180772Z",
          "iopub.status.idle": "2023-10-03T13:13:08.18716Z",
          "shell.execute_reply.started": "2023-10-03T13:13:08.180739Z",
          "shell.execute_reply": "2023-10-03T13:13:08.185787Z"
        },
        "trusted": true,
        "id": "lu2Ggk5ENZ4J"
      },
      "execution_count": null,
      "outputs": []
    },
    {
      "cell_type": "code",
      "source": [
        "p_diag = pd.read_csv(\"/kaggle/input/respiratory-sound-database/Respiratory_Sound_Database/Respiratory_Sound_Database/patient_diagnosis.csv\",header=None) # patient diagnosis file"
      ],
      "metadata": {
        "execution": {
          "iopub.status.busy": "2023-10-03T13:13:09.719769Z",
          "iopub.execute_input": "2023-10-03T13:13:09.721999Z",
          "iopub.status.idle": "2023-10-03T13:13:09.734441Z",
          "shell.execute_reply.started": "2023-10-03T13:13:09.721928Z",
          "shell.execute_reply": "2023-10-03T13:13:09.733033Z"
        },
        "trusted": true,
        "id": "a7PNZFrcNZ4K"
      },
      "execution_count": null,
      "outputs": []
    },
    {
      "cell_type": "code",
      "source": [
        "labels = np.array([p_diag[p_diag[0] == x][1].values[0] for x in p_id_in_file]) # labels for audio files\n"
      ],
      "metadata": {
        "execution": {
          "iopub.status.busy": "2023-10-03T13:13:11.224234Z",
          "iopub.execute_input": "2023-10-03T13:13:11.22567Z",
          "iopub.status.idle": "2023-10-03T13:13:11.672105Z",
          "shell.execute_reply.started": "2023-10-03T13:13:11.225602Z",
          "shell.execute_reply": "2023-10-03T13:13:11.670499Z"
        },
        "trusted": true,
        "id": "1Mf98XK9NZ4L"
      },
      "execution_count": null,
      "outputs": []
    },
    {
      "cell_type": "markdown",
      "source": [
        "# DATA AUGMENTATION FUNCTIONS"
      ],
      "metadata": {
        "id": "frei5QflNZ4L"
      }
    },
    {
      "cell_type": "markdown",
      "source": [
        "NOISE"
      ],
      "metadata": {
        "id": "XNS8cQxHNZ4M"
      }
    },
    {
      "cell_type": "code",
      "source": [
        "def add_noise(data):\n",
        "    noise_value = 0.015 * np.random.uniform() * np.amax(data)\n",
        "    data = data + noise_value * np.random.normal(size=data.shape[0])\n",
        "    return data"
      ],
      "metadata": {
        "execution": {
          "iopub.status.busy": "2023-10-03T13:13:13.63401Z",
          "iopub.execute_input": "2023-10-03T13:13:13.635043Z",
          "iopub.status.idle": "2023-10-03T13:13:13.644152Z",
          "shell.execute_reply.started": "2023-10-03T13:13:13.634996Z",
          "shell.execute_reply": "2023-10-03T13:13:13.641172Z"
        },
        "trusted": true,
        "id": "lxztSE6wNZ4M"
      },
      "execution_count": null,
      "outputs": []
    },
    {
      "cell_type": "markdown",
      "source": [
        "STRETCH"
      ],
      "metadata": {
        "id": "79UEbqsaNZ4N"
      }
    },
    {
      "cell_type": "code",
      "source": [
        "def stretch_process(data, rate=0.8):\n",
        "    return librosa.effects.time_stretch(data, rate=0.8)"
      ],
      "metadata": {
        "execution": {
          "iopub.status.busy": "2023-10-03T13:13:16.10745Z",
          "iopub.execute_input": "2023-10-03T13:13:16.107845Z",
          "iopub.status.idle": "2023-10-03T13:13:16.112283Z",
          "shell.execute_reply.started": "2023-10-03T13:13:16.107819Z",
          "shell.execute_reply": "2023-10-03T13:13:16.11149Z"
        },
        "trusted": true,
        "id": "sI1c4-bsNZ4N"
      },
      "execution_count": null,
      "outputs": []
    },
    {
      "cell_type": "markdown",
      "source": [
        "PITCH"
      ],
      "metadata": {
        "id": "EP7yRQ_SNZ4O"
      }
    },
    {
      "cell_type": "code",
      "source": [
        "def pitch_process(data, sampling_rate, pitch_factor=0.7):\n",
        "    return librosa.effects.pitch_shift(data, sr=sampling_rate, n_steps=pitch_factor)"
      ],
      "metadata": {
        "execution": {
          "iopub.status.busy": "2023-10-03T13:13:17.831565Z",
          "iopub.execute_input": "2023-10-03T13:13:17.831962Z",
          "iopub.status.idle": "2023-10-03T13:13:17.838555Z",
          "shell.execute_reply.started": "2023-10-03T13:13:17.831935Z",
          "shell.execute_reply": "2023-10-03T13:13:17.836377Z"
        },
        "trusted": true,
        "id": "Qtmbn5FeNZ4O"
      },
      "execution_count": null,
      "outputs": []
    },
    {
      "cell_type": "markdown",
      "source": [
        "# DATA PROCESS FUNCTIONS"
      ],
      "metadata": {
        "id": "3S0HT6fvNZ4P"
      }
    },
    {
      "cell_type": "markdown",
      "source": [
        "EXTRACT FEATURES"
      ],
      "metadata": {
        "id": "C4ZNRB08NZ4P"
      }
    },
    {
      "cell_type": "code",
      "source": [
        "def extract_process(data, sample_rate):\n",
        "    output_result = np.array([])\n",
        "\n",
        "    mean_zero = np.mean(librosa.feature.zero_crossing_rate(y=data).T, axis=0)\n",
        "    output_result = np.hstack((output_result, mean_zero))\n",
        "\n",
        "    stft_out = np.abs(librosa.stft(data))\n",
        "    chroma_stft = np.mean(librosa.feature.chroma_stft(S=stft_out, sr=sample_rate).T, axis=0)\n",
        "    output_result = np.hstack((output_result, chroma_stft))\n",
        "\n",
        "    mfcc_out = np.mean(librosa.feature.mfcc(y=data, sr=sample_rate, n_mfcc=40).T, axis=0)\n",
        "    output_result = np.hstack((output_result, mfcc_out))\n",
        "\n",
        "    root_mean_out = np.mean(librosa.feature.rms(y=data).T, axis=0)\n",
        "    output_result = np.hstack((output_result, root_mean_out))\n",
        "\n",
        "    mel_spectogram = np.mean(librosa.feature.melspectrogram(y=data, sr=sample_rate).T, axis=0)\n",
        "    output_result = np.hstack((output_result, mel_spectogram))\n",
        "\n",
        "    return output_result"
      ],
      "metadata": {
        "execution": {
          "iopub.status.busy": "2023-10-03T13:13:19.652513Z",
          "iopub.execute_input": "2023-10-03T13:13:19.652913Z",
          "iopub.status.idle": "2023-10-03T13:13:19.662378Z",
          "shell.execute_reply.started": "2023-10-03T13:13:19.652885Z",
          "shell.execute_reply": "2023-10-03T13:13:19.661028Z"
        },
        "trusted": true,
        "id": "Pv4HcdH7NZ4Q"
      },
      "execution_count": null,
      "outputs": []
    },
    {
      "cell_type": "markdown",
      "source": [
        "EXPORT FEATURES"
      ],
      "metadata": {
        "id": "J0L0sxYnNZ4R"
      }
    },
    {
      "cell_type": "code",
      "source": [
        "def extract_features(file_name):\n",
        "    \"\"\"\n",
        "    This function takes in the path for an audio file as a string, loads it,\n",
        "    and extracts several audio features including mean values of MFCC, Zero Crossing Rate,\n",
        "    Chromagram, Root Mean Square Energy, and Mel Spectrogram from the original and its augmented versions.\n",
        "    \"\"\"\n",
        "    try:\n",
        "        # Load the original audio file\n",
        "        audio, sample_rate = librosa.load(file_name, res_type='kaiser_fast', duration=42, offset=0.6)\n",
        "\n",
        "        # Extract features from the original audio data\n",
        "        extracted_features = extract_process(audio, sample_rate)\n",
        "        result = np.array(extracted_features)\n",
        "\n",
        "        # Add noise and extract features\n",
        "        noise_out = add_noise(audio)\n",
        "        output_2 = extract_process(noise_out, sample_rate)\n",
        "        result = np.vstack((result, output_2))\n",
        "\n",
        "        # Time-stretch and then pitch-shift before extracting features\n",
        "        new_out = stretch_process(audio,0.8)\n",
        "        stretch_pitch = pitch_process(new_out, sample_rate,pitch_factor=0.7)\n",
        "        output_3 = extract_process(stretch_pitch, sample_rate)\n",
        "        result = np.vstack((result, output_3))\n",
        "\n",
        "    except Exception as e:\n",
        "        print(\"Error encountered while parsing file: \", file_name)\n",
        "        print(\"Error Details:\", e)\n",
        "        return None\n",
        "\n",
        "    return result"
      ],
      "metadata": {
        "execution": {
          "iopub.status.busy": "2023-10-03T13:13:22.446704Z",
          "iopub.execute_input": "2023-10-03T13:13:22.447095Z",
          "iopub.status.idle": "2023-10-03T13:13:22.457453Z",
          "shell.execute_reply.started": "2023-10-03T13:13:22.447066Z",
          "shell.execute_reply": "2023-10-03T13:13:22.455723Z"
        },
        "trusted": true,
        "id": "CQyv1MxpNZ4R"
      },
      "execution_count": null,
      "outputs": []
    },
    {
      "cell_type": "markdown",
      "source": [
        "# DATA PROCESS AND ENGINEERING"
      ],
      "metadata": {
        "id": "gh81wEAnNZ4S"
      }
    },
    {
      "cell_type": "markdown",
      "source": [
        "TRANSFORMATION AND EXPORTATION"
      ],
      "metadata": {
        "id": "nNZyKltQNZ4S"
      }
    },
    {
      "cell_type": "code",
      "source": [
        "features = []\n",
        "\n",
        "# Iterate through each sound file and extract the features\n",
        "for file_name in filepaths:\n",
        "    data = extract_features(file_name)\n",
        "    features.append(data)\n",
        "\n",
        "print('Finished feature extraction from ', len(features), ' files')\n",
        "features = np.array(features)"
      ],
      "metadata": {
        "execution": {
          "iopub.status.busy": "2023-10-03T14:37:11.640858Z",
          "iopub.execute_input": "2023-10-03T14:37:11.643897Z",
          "iopub.status.idle": "2023-10-03T14:37:35.858331Z",
          "shell.execute_reply.started": "2023-10-03T14:37:11.643821Z",
          "shell.execute_reply": "2023-10-03T14:37:35.854565Z"
        },
        "trusted": true,
        "id": "46tQXlpRNZ4T",
        "outputId": "1255fb62-568c-4ac1-a882-9e6b00449133",
        "colab": {
          "base_uri": "https://localhost:8080/"
        }
      },
      "execution_count": null,
      "outputs": [
        {
          "output_type": "stream",
          "name": "stderr",
          "text": [
            "/usr/local/lib/python3.10/dist-packages/librosa/core/pitch.py:101: UserWarning: Trying to estimate tuning from empty frequency set.\n",
            "  return pitch_tuning(\n"
          ]
        },
        {
          "output_type": "stream",
          "name": "stdout",
          "text": [
            "Finished feature extraction from  920  files\n"
          ]
        }
      ]
    },
    {
      "cell_type": "code",
      "source": [
        "features.shape"
      ],
      "metadata": {
        "execution": {
          "iopub.status.busy": "2023-10-03T12:49:55.682312Z",
          "iopub.execute_input": "2023-10-03T12:49:55.683184Z",
          "iopub.status.idle": "2023-10-03T12:49:55.691942Z",
          "shell.execute_reply.started": "2023-10-03T12:49:55.683149Z",
          "shell.execute_reply": "2023-10-03T12:49:55.690723Z"
        },
        "trusted": true,
        "id": "GEC6TiRHNZ4U",
        "outputId": "208bbfad-7fa8-44f6-8867-e4c53968353b",
        "colab": {
          "base_uri": "https://localhost:8080/"
        }
      },
      "execution_count": null,
      "outputs": [
        {
          "output_type": "execute_result",
          "data": {
            "text/plain": [
              "(920, 3, 182)"
            ]
          },
          "metadata": {},
          "execution_count": 17
        }
      ]
    },
    {
      "cell_type": "code",
      "source": [
        "# delete the very rare diseases\n",
        "new_features = np.delete(features, np.where((labels == 'Asthma') | (labels == 'LRTI'))[0], axis=0)\n",
        "\n",
        "new_labels = np.delete(labels, np.where((labels == 'Asthma') | (labels == 'LRTI'))[0], axis=0)"
      ],
      "metadata": {
        "execution": {
          "iopub.status.busy": "2023-10-03T12:50:33.867107Z",
          "iopub.execute_input": "2023-10-03T12:50:33.867522Z",
          "iopub.status.idle": "2023-10-03T12:50:33.87493Z",
          "shell.execute_reply.started": "2023-10-03T12:50:33.867493Z",
          "shell.execute_reply": "2023-10-03T12:50:33.873706Z"
        },
        "trusted": true,
        "id": "iJeFyhU3NZ4V"
      },
      "execution_count": null,
      "outputs": []
    },
    {
      "cell_type": "code",
      "source": [
        "# print class counts\n",
        "unique_elements, counts_elements = np.unique(new_labels, return_counts=True)\n",
        "print(np.asarray((unique_elements, counts_elements)))"
      ],
      "metadata": {
        "execution": {
          "iopub.status.busy": "2023-10-03T12:50:59.366175Z",
          "iopub.execute_input": "2023-10-03T12:50:59.366555Z",
          "iopub.status.idle": "2023-10-03T12:50:59.375116Z",
          "shell.execute_reply.started": "2023-10-03T12:50:59.366527Z",
          "shell.execute_reply": "2023-10-03T12:50:59.373512Z"
        },
        "trusted": true,
        "id": "QNzGGPC-NZ4V",
        "outputId": "9a2f2f36-0235-4975-8e77-08abcc7a4adb",
        "colab": {
          "base_uri": "https://localhost:8080/"
        }
      },
      "execution_count": null,
      "outputs": [
        {
          "output_type": "stream",
          "name": "stdout",
          "text": [
            "[['Bronchiectasis' 'Bronchiolitis' 'COPD' 'Healthy' 'Pneumonia' 'URTI']\n",
            " ['16' '13' '793' '35' '37' '23']]\n"
          ]
        }
      ]
    },
    {
      "cell_type": "code",
      "source": [
        "# plot class counts\n",
        "y_pos = np.arange(len(unique_elements))\n",
        "plt.figure(figsize=(12,8))\n",
        "plt.bar(unique_elements, counts_elements, align='center', alpha=0.5)\n",
        "plt.xticks(y_pos, unique_elements)\n",
        "plt.ylabel('Count')\n",
        "plt.xlabel('Disease')\n",
        "plt.title('Disease Count in Sound Files (No Asthma or LRTI)')\n",
        "plt.show()"
      ],
      "metadata": {
        "execution": {
          "iopub.status.busy": "2023-10-03T12:51:07.497578Z",
          "iopub.execute_input": "2023-10-03T12:51:07.498072Z",
          "iopub.status.idle": "2023-10-03T12:51:07.816351Z",
          "shell.execute_reply.started": "2023-10-03T12:51:07.498032Z",
          "shell.execute_reply": "2023-10-03T12:51:07.815119Z"
        },
        "trusted": true,
        "id": "B8lBRnrlNZ4W",
        "outputId": "0a19011b-70e5-4c9c-e296-03298ee11c90",
        "colab": {
          "base_uri": "https://localhost:8080/",
          "height": 718
        }
      },
      "execution_count": null,
      "outputs": [
        {
          "output_type": "display_data",
          "data": {
            "text/plain": [
              "<Figure size 1200x800 with 1 Axes>"
            ],
            "image/png": "[encoded data removed]"
          },
          "metadata": {}
        }
      ]
    },
    {
      "cell_type": "markdown",
      "source": [
        "Flattened features array for preapering 1D CNN Model"
      ],
      "metadata": {
        "id": "xqAWJSU4NZ4X"
      }
    },
    {
      "cell_type": "code",
      "source": [
        "flattened_features = new_features.reshape(-1, 182)\n"
      ],
      "metadata": {
        "execution": {
          "iopub.status.busy": "2023-10-03T12:52:08.775302Z",
          "iopub.execute_input": "2023-10-03T12:52:08.775723Z",
          "iopub.status.idle": "2023-10-03T12:52:08.782491Z",
          "shell.execute_reply.started": "2023-10-03T12:52:08.77569Z",
          "shell.execute_reply": "2023-10-03T12:52:08.780646Z"
        },
        "trusted": true,
        "id": "Xsf2DTsANZ4X"
      },
      "execution_count": null,
      "outputs": []
    },
    {
      "cell_type": "code",
      "source": [
        "augmented_labels = np.repeat(labels, 3)"
      ],
      "metadata": {
        "execution": {
          "iopub.status.busy": "2023-10-03T12:52:49.631837Z",
          "iopub.execute_input": "2023-10-03T12:52:49.632227Z",
          "iopub.status.idle": "2023-10-03T12:52:49.639132Z",
          "shell.execute_reply.started": "2023-10-03T12:52:49.632199Z",
          "shell.execute_reply": "2023-10-03T12:52:49.637459Z"
        },
        "trusted": true,
        "id": "4gq0PZXkNZ4Y"
      },
      "execution_count": null,
      "outputs": []
    },
    {
      "cell_type": "code",
      "source": [
        "augmented_features = np.reshape(features, (-1, 182))  # Flatten the feature sets\n",
        "\n",
        "mask = ~np.isin(augmented_labels, ['Asthma', 'LRTI'])\n",
        "augmented_features = augmented_features[mask]\n",
        "augmented_labels = augmented_labels[mask]"
      ],
      "metadata": {
        "execution": {
          "iopub.status.busy": "2023-10-03T12:53:05.451778Z",
          "iopub.execute_input": "2023-10-03T12:53:05.452131Z",
          "iopub.status.idle": "2023-10-03T12:53:05.458444Z",
          "shell.execute_reply.started": "2023-10-03T12:53:05.452106Z",
          "shell.execute_reply": "2023-10-03T12:53:05.457327Z"
        },
        "trusted": true,
        "id": "bRRuw4TmNZ4Y"
      },
      "execution_count": null,
      "outputs": []
    },
    {
      "cell_type": "code",
      "source": [
        "le = LabelEncoder()\n",
        "i_labels = le.fit_transform(augmented_labels)\n",
        "oh_labels = to_categorical(i_labels)"
      ],
      "metadata": {
        "execution": {
          "iopub.status.busy": "2023-10-03T12:53:17.325154Z",
          "iopub.execute_input": "2023-10-03T12:53:17.325583Z",
          "iopub.status.idle": "2023-10-03T12:53:17.331794Z",
          "shell.execute_reply.started": "2023-10-03T12:53:17.325552Z",
          "shell.execute_reply": "2023-10-03T12:53:17.330342Z"
        },
        "trusted": true,
        "id": "sI1-WxpgNZ4Z"
      },
      "execution_count": null,
      "outputs": []
    },
    {
      "cell_type": "code",
      "source": [
        "oh_labels.shape"
      ],
      "metadata": {
        "execution": {
          "iopub.status.busy": "2023-10-03T12:53:22.682886Z",
          "iopub.execute_input": "2023-10-03T12:53:22.683235Z",
          "iopub.status.idle": "2023-10-03T12:53:22.690121Z",
          "shell.execute_reply.started": "2023-10-03T12:53:22.683209Z",
          "shell.execute_reply": "2023-10-03T12:53:22.689031Z"
        },
        "trusted": true,
        "id": "iuR33RFBNZ4Z",
        "outputId": "ce493e1b-84fa-479f-b650-7316b25f382c",
        "colab": {
          "base_uri": "https://localhost:8080/"
        }
      },
      "execution_count": null,
      "outputs": [
        {
          "output_type": "execute_result",
          "data": {
            "text/plain": [
              "(2751, 6)"
            ]
          },
          "metadata": {},
          "execution_count": 25
        }
      ]
    },
    {
      "cell_type": "code",
      "source": [
        "flattened_features.shape"
      ],
      "metadata": {
        "execution": {
          "iopub.status.busy": "2023-10-03T12:53:29.685698Z",
          "iopub.execute_input": "2023-10-03T12:53:29.686048Z",
          "iopub.status.idle": "2023-10-03T12:53:29.693201Z",
          "shell.execute_reply.started": "2023-10-03T12:53:29.686022Z",
          "shell.execute_reply": "2023-10-03T12:53:29.6918Z"
        },
        "trusted": true,
        "id": "nHuXP05BNZ4a",
        "outputId": "ad8734f3-abdd-4449-bdc4-c566b1e128e9",
        "colab": {
          "base_uri": "https://localhost:8080/"
        }
      },
      "execution_count": null,
      "outputs": [
        {
          "output_type": "execute_result",
          "data": {
            "text/plain": [
              "(2751, 182)"
            ]
          },
          "metadata": {},
          "execution_count": 26
        }
      ]
    },
    {
      "cell_type": "code",
      "source": [
        "# train test split\n",
        "x_train, x_test, y_train, y_test = train_test_split(flattened_features, oh_labels, stratify=oh_labels,\n",
        "                                                    test_size=0.2, random_state = 42)"
      ],
      "metadata": {
        "execution": {
          "iopub.status.busy": "2023-10-03T12:55:07.643647Z",
          "iopub.execute_input": "2023-10-03T12:55:07.644014Z",
          "iopub.status.idle": "2023-10-03T12:55:07.676519Z",
          "shell.execute_reply.started": "2023-10-03T12:55:07.643988Z",
          "shell.execute_reply": "2023-10-03T12:55:07.675463Z"
        },
        "trusted": true,
        "id": "PJXVw0lqNZ4a"
      },
      "execution_count": null,
      "outputs": []
    },
    {
      "cell_type": "code",
      "source": [
        "#SCALER & TRANSFORMATION\n",
        "scaler_data = StandardScaler()"
      ],
      "metadata": {
        "execution": {
          "iopub.status.busy": "2023-10-03T12:55:10.376476Z",
          "iopub.execute_input": "2023-10-03T12:55:10.377576Z",
          "iopub.status.idle": "2023-10-03T12:55:10.38163Z",
          "shell.execute_reply.started": "2023-10-03T12:55:10.377538Z",
          "shell.execute_reply": "2023-10-03T12:55:10.380588Z"
        },
        "trusted": true,
        "id": "2rkYM8SbNZ5D"
      },
      "execution_count": null,
      "outputs": []
    },
    {
      "cell_type": "code",
      "source": [
        "print(x_train.shape)\n",
        "print(y_train.shape)\n",
        "print(x_test.shape)\n",
        "print(y_test.shape)"
      ],
      "metadata": {
        "execution": {
          "iopub.status.busy": "2023-10-03T12:55:12.046789Z",
          "iopub.execute_input": "2023-10-03T12:55:12.047191Z",
          "iopub.status.idle": "2023-10-03T12:55:12.054433Z",
          "shell.execute_reply.started": "2023-10-03T12:55:12.047163Z",
          "shell.execute_reply": "2023-10-03T12:55:12.053122Z"
        },
        "trusted": true,
        "id": "LQc8aChrNZ5E",
        "outputId": "ad487767-308f-4cad-e2f5-8326a2aa2495",
        "colab": {
          "base_uri": "https://localhost:8080/"
        }
      },
      "execution_count": null,
      "outputs": [
        {
          "output_type": "stream",
          "name": "stdout",
          "text": [
            "(2200, 182)\n",
            "(2200, 6)\n",
            "(551, 182)\n",
            "(551, 6)\n"
          ]
        }
      ]
    },
    {
      "cell_type": "code",
      "source": [
        "x_train = scaler_data.fit_transform(x_train)\n",
        "x_test = scaler_data.transform(x_test)"
      ],
      "metadata": {
        "execution": {
          "iopub.status.busy": "2023-10-03T12:55:13.645919Z",
          "iopub.execute_input": "2023-10-03T12:55:13.64629Z",
          "iopub.status.idle": "2023-10-03T12:55:13.657805Z",
          "shell.execute_reply.started": "2023-10-03T12:55:13.646262Z",
          "shell.execute_reply": "2023-10-03T12:55:13.656677Z"
        },
        "trusted": true,
        "id": "o4pONajONZ5E"
      },
      "execution_count": null,
      "outputs": []
    },
    {
      "cell_type": "code",
      "source": [
        "x_train = np.expand_dims(x_train,axis=2)\n",
        "x_test = np.expand_dims(x_test,axis=2)"
      ],
      "metadata": {
        "execution": {
          "iopub.status.busy": "2023-10-03T12:55:14.860274Z",
          "iopub.execute_input": "2023-10-03T12:55:14.86068Z",
          "iopub.status.idle": "2023-10-03T12:55:14.865338Z",
          "shell.execute_reply.started": "2023-10-03T12:55:14.860642Z",
          "shell.execute_reply": "2023-10-03T12:55:14.864079Z"
        },
        "trusted": true,
        "id": "fm1VP6G0NZ5F"
      },
      "execution_count": null,
      "outputs": []
    },
    {
      "cell_type": "markdown",
      "source": [
        "# 1D CNN Model"
      ],
      "metadata": {
        "execution": {
          "iopub.status.busy": "2023-10-03T12:55:19.667893Z",
          "iopub.execute_input": "2023-10-03T12:55:19.668276Z",
          "iopub.status.idle": "2023-10-03T12:55:19.674553Z",
          "shell.execute_reply.started": "2023-10-03T12:55:19.668247Z",
          "shell.execute_reply": "2023-10-03T12:55:19.67341Z"
        },
        "id": "Oz-3Erp4NZ5G"
      }
    },
    {
      "cell_type": "code",
      "source": [
        "from tensorflow.keras import layers, Sequential\n",
        "\n",
        "num_labels = len(np.unique(new_labels))  # Determine the number of unique classes\n",
        "\n",
        "Model = Sequential([\n",
        "    layers.Conv1D(256, kernel_size=5, strides=1, padding='same', activation='relu', input_shape=(x_train.shape[1], 1)),\n",
        "    layers.MaxPooling1D(pool_size=5, strides = 2, padding = 'same'),\n",
        "    layers.Conv1D(256, kernel_size=5, strides=1, padding='same', activation='relu'),\n",
        "    layers.MaxPooling1D(pool_size=5, strides = 2, padding = 'same'),\n",
        "    layers.Conv1D(128, kernel_size=5, strides=1, padding='same', activation='relu'),\n",
        "    layers.MaxPooling1D(pool_size=5, strides = 2, padding = 'same'),\n",
        "    layers.Conv1D(64, kernel_size=5, strides=1, padding='same', activation='relu'),\n",
        "    layers.MaxPooling1D(pool_size=5, strides = 2, padding = 'same'),\n",
        "    layers.Conv1D(32, kernel_size=5, strides=1, padding='same', activation='relu'),\n",
        "    layers.MaxPooling1D(pool_size=5, strides = 2, padding = 'same'),\n",
        "    layers.Dropout(0.2),\n",
        "    layers.Flatten(),\n",
        "    layers.Dense(units=32, activation='relu'),\n",
        "    layers.Dropout(0.3),\n",
        "    layers.Dense(units=num_labels, activation='softmax')\n",
        "])"
      ],
      "metadata": {
        "execution": {
          "iopub.status.busy": "2023-10-03T12:56:42.116598Z",
          "iopub.execute_input": "2023-10-03T12:56:42.117055Z",
          "iopub.status.idle": "2023-10-03T12:56:42.513451Z",
          "shell.execute_reply.started": "2023-10-03T12:56:42.117027Z",
          "shell.execute_reply": "2023-10-03T12:56:42.512042Z"
        },
        "trusted": true,
        "id": "A4Cqz9kpNZ5G"
      },
      "execution_count": null,
      "outputs": []
    },
    {
      "cell_type": "code",
      "source": [
        "Model.compile(optimizer = 'adam' , loss = 'categorical_crossentropy' , metrics = ['accuracy'])\n"
      ],
      "metadata": {
        "execution": {
          "iopub.status.busy": "2023-10-03T12:57:02.386311Z",
          "iopub.execute_input": "2023-10-03T12:57:02.386677Z",
          "iopub.status.idle": "2023-10-03T12:57:02.412368Z",
          "shell.execute_reply.started": "2023-10-03T12:57:02.386649Z",
          "shell.execute_reply": "2023-10-03T12:57:02.410748Z"
        },
        "trusted": true,
        "id": "cAhpyPzGNZ5H"
      },
      "execution_count": null,
      "outputs": []
    },
    {
      "cell_type": "code",
      "source": [
        "early_stop = tensorflow.keras.callbacks.EarlyStopping(monitor=\"loss\",patience=3,mode=\"min\")"
      ],
      "metadata": {
        "execution": {
          "iopub.status.busy": "2023-10-03T12:57:07.53713Z",
          "iopub.execute_input": "2023-10-03T12:57:07.537507Z",
          "iopub.status.idle": "2023-10-03T12:57:07.542509Z",
          "shell.execute_reply.started": "2023-10-03T12:57:07.53748Z",
          "shell.execute_reply": "2023-10-03T12:57:07.541736Z"
        },
        "trusted": true,
        "id": "5yi_XZijNZ5I"
      },
      "execution_count": null,
      "outputs": []
    },
    {
      "cell_type": "code",
      "source": [
        "evConv1D_Model = Model.fit(x_train, y_train, batch_size=64, epochs=100, validation_data=(x_test, y_test), callbacks=[early_stop])"
      ],
      "metadata": {
        "execution": {
          "iopub.status.busy": "2023-10-03T12:57:12.247024Z",
          "iopub.execute_input": "2023-10-03T12:57:12.247396Z",
          "iopub.status.idle": "2023-10-03T13:01:40.087149Z",
          "shell.execute_reply.started": "2023-10-03T12:57:12.247367Z",
          "shell.execute_reply": "2023-10-03T13:01:40.085897Z"
        },
        "trusted": true,
        "id": "SIM7KvKgNZ5I",
        "outputId": "c67063e7-ac2c-4855-9ed4-77fb395201ff",
        "colab": {
          "base_uri": "https://localhost:8080/"
        }
      },
      "execution_count": null,
      "outputs": [
        {
          "output_type": "stream",
          "name": "stdout",
          "text": [
            "Epoch 1/100\n",
            "35/35 [==============================] - 29s 772ms/step - loss: 0.7680 - accuracy: 0.8386 - val_loss: 0.6725 - val_accuracy: 0.8639\n",
            "Epoch 2/100\n",
            "35/35 [==============================] - 21s 603ms/step - loss: 0.6157 - accuracy: 0.8650 - val_loss: 0.5327 - val_accuracy: 0.8639\n",
            "Epoch 3/100\n",
            "35/35 [==============================] - 15s 416ms/step - loss: 0.5684 - accuracy: 0.8650 - val_loss: 0.4964 - val_accuracy: 0.8639\n",
            "Epoch 4/100\n",
            "35/35 [==============================] - 14s 414ms/step - loss: 0.5075 - accuracy: 0.8641 - val_loss: 0.4846 - val_accuracy: 0.8639\n",
            "Epoch 5/100\n",
            "35/35 [==============================] - 14s 409ms/step - loss: 0.4716 - accuracy: 0.8668 - val_loss: 0.4429 - val_accuracy: 0.8639\n",
            "Epoch 6/100\n",
            "35/35 [==============================] - 14s 411ms/step - loss: 0.4227 - accuracy: 0.8659 - val_loss: 0.3898 - val_accuracy: 0.8657\n",
            "Epoch 7/100\n",
            "35/35 [==============================] - 14s 410ms/step - loss: 0.4277 - accuracy: 0.8664 - val_loss: 0.3951 - val_accuracy: 0.8693\n",
            "Epoch 8/100\n",
            "35/35 [==============================] - 15s 411ms/step - loss: 0.4063 - accuracy: 0.8659 - val_loss: 0.3614 - val_accuracy: 0.8748\n",
            "Epoch 9/100\n",
            "35/35 [==============================] - 15s 429ms/step - loss: 0.3600 - accuracy: 0.8750 - val_loss: 0.3597 - val_accuracy: 0.8838\n",
            "Epoch 10/100\n",
            "35/35 [==============================] - 14s 412ms/step - loss: 0.3583 - accuracy: 0.8718 - val_loss: 0.3461 - val_accuracy: 0.8675\n",
            "Epoch 11/100\n",
            "35/35 [==============================] - 14s 394ms/step - loss: 0.3142 - accuracy: 0.8900 - val_loss: 0.3377 - val_accuracy: 0.8675\n",
            "Epoch 12/100\n",
            "35/35 [==============================] - 14s 413ms/step - loss: 0.2989 - accuracy: 0.8877 - val_loss: 0.2956 - val_accuracy: 0.8875\n",
            "Epoch 13/100\n",
            "35/35 [==============================] - 14s 415ms/step - loss: 0.2675 - accuracy: 0.9014 - val_loss: 0.2941 - val_accuracy: 0.9056\n",
            "Epoch 14/100\n",
            "35/35 [==============================] - 14s 395ms/step - loss: 0.2781 - accuracy: 0.8914 - val_loss: 0.2846 - val_accuracy: 0.9020\n",
            "Epoch 15/100\n",
            "35/35 [==============================] - 14s 412ms/step - loss: 0.2580 - accuracy: 0.9036 - val_loss: 0.2676 - val_accuracy: 0.9038\n",
            "Epoch 16/100\n",
            "35/35 [==============================] - 15s 444ms/step - loss: 0.2389 - accuracy: 0.9077 - val_loss: 0.2598 - val_accuracy: 0.9093\n",
            "Epoch 17/100\n",
            "35/35 [==============================] - 14s 407ms/step - loss: 0.2528 - accuracy: 0.9036 - val_loss: 0.3417 - val_accuracy: 0.8693\n",
            "Epoch 18/100\n",
            "35/35 [==============================] - 14s 415ms/step - loss: 0.2203 - accuracy: 0.9159 - val_loss: 0.2378 - val_accuracy: 0.9183\n",
            "Epoch 19/100\n",
            "35/35 [==============================] - 14s 411ms/step - loss: 0.1784 - accuracy: 0.9268 - val_loss: 0.2753 - val_accuracy: 0.9129\n",
            "Epoch 20/100\n",
            "35/35 [==============================] - 14s 411ms/step - loss: 0.1874 - accuracy: 0.9295 - val_loss: 0.2356 - val_accuracy: 0.9165\n",
            "Epoch 21/100\n",
            "35/35 [==============================] - 14s 413ms/step - loss: 0.1999 - accuracy: 0.9245 - val_loss: 0.2335 - val_accuracy: 0.9220\n",
            "Epoch 22/100\n",
            "35/35 [==============================] - 14s 413ms/step - loss: 0.1891 - accuracy: 0.9282 - val_loss: 0.2388 - val_accuracy: 0.9093\n"
          ]
        }
      ]
    },
    {
      "cell_type": "code",
      "source": [
        "Model_Results = Model.evaluate(x_test,y_test)\n",
        "print(\"LOSS:  \" + \"%.4f\" % Model_Results[0])\n",
        "print(\"ACCURACY:  \" + \"%.4f\" % Model_Results[1])"
      ],
      "metadata": {
        "execution": {
          "iopub.status.busy": "2023-10-03T13:02:40.492723Z",
          "iopub.execute_input": "2023-10-03T13:02:40.493095Z",
          "iopub.status.idle": "2023-10-03T13:03:36.709973Z",
          "shell.execute_reply.started": "2023-10-03T13:02:40.493069Z",
          "shell.execute_reply": "2023-10-03T13:03:36.708376Z"
        },
        "trusted": true,
        "id": "8cEAU7o3NZ5J",
        "outputId": "b4600412-415e-477d-a688-fe867c986487",
        "colab": {
          "base_uri": "https://localhost:8080/"
        }
      },
      "execution_count": null,
      "outputs": [
        {
          "output_type": "stream",
          "name": "stdout",
          "text": [
            "18/18 [==============================] - 1s 44ms/step - loss: 0.2388 - accuracy: 0.9093\n",
            "LOSS:  0.2388\n",
            "ACCURACY:  0.9093\n"
          ]
        }
      ]
    },
    {
      "cell_type": "markdown",
      "source": [
        "Plotting Train and Validation Loss & Accuracy:"
      ],
      "metadata": {
        "id": "tBtrSSeFNZ5J"
      }
    },
    {
      "cell_type": "code",
      "source": [
        "# Plotting loss\n",
        "plt.figure(figsize=(14, 5))\n",
        "plt.subplot(1, 2, 1)\n",
        "plt.plot(evConv1D_Model.history['loss'], label='Training Loss')\n",
        "plt.plot(evConv1D_Model.history['val_loss'], label='Validation Loss')\n",
        "plt.legend()\n",
        "plt.title('Training and Validation Loss')\n",
        "\n",
        "# Plotting accuracy\n",
        "plt.subplot(1, 2, 2)\n",
        "plt.plot(evConv1D_Model.history['accuracy'], label='Training Accuracy')\n",
        "plt.plot(evConv1D_Model.history['val_accuracy'], label='Validation Accuracy')\n",
        "plt.legend()\n",
        "plt.title('Training and Validation Accuracy')\n",
        "\n",
        "plt.show()\n"
      ],
      "metadata": {
        "execution": {
          "iopub.status.busy": "2023-10-03T13:03:56.806758Z",
          "iopub.execute_input": "2023-10-03T13:03:56.808086Z",
          "iopub.status.idle": "2023-10-03T13:03:57.232899Z",
          "shell.execute_reply.started": "2023-10-03T13:03:56.808047Z",
          "shell.execute_reply": "2023-10-03T13:03:57.231889Z"
        },
        "trusted": true,
        "id": "x8IjE2uwNZ5K",
        "outputId": "47a487e7-4262-4d05-ad82-dbf72ed11255",
        "colab": {
          "base_uri": "https://localhost:8080/",
          "height": 468
        }
      },
      "execution_count": null,
      "outputs": [
        {
          "output_type": "display_data",
          "data": {
            "text/plain": [
              "<Figure size 1400x500 with 2 Axes>"
            ],
            "image/png": "[encoded data removed]"
          },
          "metadata": {}
        }
      ]
    },
    {
      "cell_type": "markdown",
      "source": [
        "Confusion Matrix:"
      ],
      "metadata": {
        "id": "04hexVSKNZ5L"
      }
    },
    {
      "cell_type": "code",
      "source": [
        "# Getting the predictions\n",
        "y_pred = Model.predict(x_test)\n",
        "y_pred_classes = np.argmax(y_pred, axis=1)\n",
        "y_true = np.argmax(y_test, axis=1)\n",
        "\n",
        "# Generating the confusion matrix\n",
        "confusion_mtx = confusion_matrix(y_true, y_pred_classes)\n",
        "\n",
        "# Displaying the confusion matrix\n",
        "cm_display = ConfusionMatrixDisplay(confusion_mtx, display_labels=le.classes_).plot()"
      ],
      "metadata": {
        "execution": {
          "iopub.status.busy": "2023-10-03T13:04:20.701072Z",
          "iopub.execute_input": "2023-10-03T13:04:20.701472Z",
          "iopub.status.idle": "2023-10-03T13:04:21.761042Z",
          "shell.execute_reply.started": "2023-10-03T13:04:20.701441Z",
          "shell.execute_reply": "2023-10-03T13:04:21.759712Z"
        },
        "trusted": true,
        "id": "WtXDX_dUNZ5L",
        "outputId": "e368e28a-f220-4ba2-a20a-6412633883bd",
        "colab": {
          "base_uri": "https://localhost:8080/",
          "height": 466
        }
      },
      "execution_count": null,
      "outputs": [
        {
          "output_type": "stream",
          "name": "stdout",
          "text": [
            "18/18 [==============================] - 1s 43ms/step\n"
          ]
        },
        {
          "output_type": "display_data",
          "data": {
            "text/plain": [
              "<Figure size 640x480 with 2 Axes>"
            ],
            "image/png": "[encoded data removed]"
          },
          "metadata": {}
        }
      ]
    }
  ]
}